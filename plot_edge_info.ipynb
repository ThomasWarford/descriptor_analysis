{
 "cells": [
  {
   "cell_type": "code",
   "execution_count": 1,
   "metadata": {},
   "outputs": [],
   "source": [
    "%matplotlib inline\n",
    "import numpy as np\n",
    "import pandas as pd\n",
    "from ase.data import atomic_numbers\n",
    "import matplotlib.pyplot as plt"
   ]
  },
  {
   "cell_type": "code",
   "execution_count": 2,
   "metadata": {},
   "outputs": [
    {
     "data": {
      "text/html": [
       "<div>\n",
       "<style scoped>\n",
       "    .dataframe tbody tr th:only-of-type {\n",
       "        vertical-align: middle;\n",
       "    }\n",
       "\n",
       "    .dataframe tbody tr th {\n",
       "        vertical-align: top;\n",
       "    }\n",
       "\n",
       "    .dataframe thead th {\n",
       "        text-align: right;\n",
       "    }\n",
       "</style>\n",
       "<table border=\"1\" class=\"dataframe\">\n",
       "  <thead>\n",
       "    <tr style=\"text-align: right;\">\n",
       "      <th></th>\n",
       "      <th>dataset_index</th>\n",
       "      <th>edge_index_src</th>\n",
       "      <th>edge_index_dst</th>\n",
       "      <th>atomic_numbers</th>\n",
       "      <th>oxygen_distance</th>\n",
       "    </tr>\n",
       "  </thead>\n",
       "  <tbody>\n",
       "    <tr>\n",
       "      <th>0</th>\n",
       "      <td>267</td>\n",
       "      <td>0</td>\n",
       "      <td>4</td>\n",
       "      <td>40</td>\n",
       "      <td>4.746094</td>\n",
       "    </tr>\n",
       "    <tr>\n",
       "      <th>1</th>\n",
       "      <td>267</td>\n",
       "      <td>0</td>\n",
       "      <td>5</td>\n",
       "      <td>40</td>\n",
       "      <td>5.332031</td>\n",
       "    </tr>\n",
       "    <tr>\n",
       "      <th>2</th>\n",
       "      <td>267</td>\n",
       "      <td>0</td>\n",
       "      <td>4</td>\n",
       "      <td>40</td>\n",
       "      <td>4.746094</td>\n",
       "    </tr>\n",
       "    <tr>\n",
       "      <th>3</th>\n",
       "      <td>267</td>\n",
       "      <td>0</td>\n",
       "      <td>5</td>\n",
       "      <td>40</td>\n",
       "      <td>4.187500</td>\n",
       "    </tr>\n",
       "    <tr>\n",
       "      <th>4</th>\n",
       "      <td>267</td>\n",
       "      <td>0</td>\n",
       "      <td>5</td>\n",
       "      <td>40</td>\n",
       "      <td>5.332031</td>\n",
       "    </tr>\n",
       "  </tbody>\n",
       "</table>\n",
       "</div>"
      ],
      "text/plain": [
       "   dataset_index  edge_index_src  edge_index_dst  atomic_numbers  \\\n",
       "0            267               0               4              40   \n",
       "1            267               0               5              40   \n",
       "2            267               0               4              40   \n",
       "3            267               0               5              40   \n",
       "4            267               0               5              40   \n",
       "\n",
       "   oxygen_distance  \n",
       "0         4.746094  \n",
       "1         5.332031  \n",
       "2         4.746094  \n",
       "3         4.187500  \n",
       "4         5.332031  "
      ]
     },
     "execution_count": 2,
     "metadata": {},
     "output_type": "execute_result"
    }
   ],
   "source": [
    "df_salex = np.load('edge_info/salex.npy', mmap_mode='r')\n",
    "df_salex = pd.DataFrame.from_records(df_salex)\n",
    "df_salex.head()"
   ]
  },
  {
   "cell_type": "code",
   "execution_count": 3,
   "metadata": {},
   "outputs": [],
   "source": [
    "u_elements = ['Co', 'Cr', 'Fe', 'Mn', 'Mo', 'Ni', 'V', 'W']\n",
    "u_numbers = [atomic_numbers[element] for element in u_elements]"
   ]
  },
  {
   "cell_type": "code",
   "execution_count": 4,
   "metadata": {},
   "outputs": [
    {
     "data": {
      "image/png": "[encoded data removed]",
      "text/plain": [
       "<Figure size 640x480 with 1 Axes>"
      ]
     },
     "metadata": {},
     "output_type": "display_data"
    }
   ],
   "source": [
    "def plot_oxygen_distance_hist(df, numbers, ax=None, bins=30, radial_normalization=True, density=True, label=None):\n",
    "    distances = df.oxygen_distance[np.isin(df.atomic_numbers, numbers)]\n",
    "\n",
    "    if ax is None:\n",
    "        fig, ax = plt.subplots()\n",
    "        ylabel = 'Density' if density else 'Count'\n",
    "        if radial_normalization: ylabel += ' / Shell Volume'\n",
    "        ax.set_xlabel('Radial Distance / Å')\n",
    "        ax.set_ylabel(ylabel)\n",
    "\n",
    "    counts, bin_edges = np.histogram(distances, np.linspace(0, 6, bins), density=density)\n",
    "    bin_centers = (bin_edges[:-1] + bin_edges[1:]) / 2\n",
    "    bin_width = bin_edges[1] - bin_edges[0]\n",
    "    \n",
    "    alpha = (0.5 if label else None)\n",
    "    if radial_normalization:\n",
    "        ax.bar(bin_centers, counts/(4*np.pi*bin_centers**2), width=bin_width, label=label, alpha=alpha)\n",
    "    else:\n",
    "        ax.bar(bin_centers, counts, width=bin_width, label=label, alpha=alpha)\n",
    "\n",
    "\n",
    "    return ax\n",
    "\n",
    "fig, ax = plt.subplots()\n",
    "ax = plot_oxygen_distance_hist(df_salex, u_numbers, label='salex', ax=ax)\n",
    "del df_salex"
   ]
  },
  {
   "cell_type": "code",
   "execution_count": 5,
   "metadata": {},
   "outputs": [
    {
     "data": {
      "text/html": [
       "<div>\n",
       "<style scoped>\n",
       "    .dataframe tbody tr th:only-of-type {\n",
       "        vertical-align: middle;\n",
       "    }\n",
       "\n",
       "    .dataframe tbody tr th {\n",
       "        vertical-align: top;\n",
       "    }\n",
       "\n",
       "    .dataframe thead th {\n",
       "        text-align: right;\n",
       "    }\n",
       "</style>\n",
       "<table border=\"1\" class=\"dataframe\">\n",
       "  <thead>\n",
       "    <tr style=\"text-align: right;\">\n",
       "      <th></th>\n",
       "      <th>dataset_index</th>\n",
       "      <th>edge_index_src</th>\n",
       "      <th>edge_index_dst</th>\n",
       "      <th>atomic_numbers</th>\n",
       "      <th>oxygen_distance</th>\n",
       "    </tr>\n",
       "  </thead>\n",
       "  <tbody>\n",
       "    <tr>\n",
       "      <th>0</th>\n",
       "      <td>13</td>\n",
       "      <td>0</td>\n",
       "      <td>16</td>\n",
       "      <td>3</td>\n",
       "      <td>3.527344</td>\n",
       "    </tr>\n",
       "    <tr>\n",
       "      <th>1</th>\n",
       "      <td>13</td>\n",
       "      <td>0</td>\n",
       "      <td>21</td>\n",
       "      <td>3</td>\n",
       "      <td>5.257812</td>\n",
       "    </tr>\n",
       "    <tr>\n",
       "      <th>2</th>\n",
       "      <td>13</td>\n",
       "      <td>0</td>\n",
       "      <td>12</td>\n",
       "      <td>3</td>\n",
       "      <td>5.261719</td>\n",
       "    </tr>\n",
       "    <tr>\n",
       "      <th>3</th>\n",
       "      <td>13</td>\n",
       "      <td>0</td>\n",
       "      <td>16</td>\n",
       "      <td>3</td>\n",
       "      <td>3.527344</td>\n",
       "    </tr>\n",
       "    <tr>\n",
       "      <th>4</th>\n",
       "      <td>13</td>\n",
       "      <td>0</td>\n",
       "      <td>21</td>\n",
       "      <td>3</td>\n",
       "      <td>5.257812</td>\n",
       "    </tr>\n",
       "  </tbody>\n",
       "</table>\n",
       "</div>"
      ],
      "text/plain": [
       "   dataset_index  edge_index_src  edge_index_dst  atomic_numbers  \\\n",
       "0             13               0              16               3   \n",
       "1             13               0              21               3   \n",
       "2             13               0              12               3   \n",
       "3             13               0              16               3   \n",
       "4             13               0              21               3   \n",
       "\n",
       "   oxygen_distance  \n",
       "0         3.527344  \n",
       "1         5.257812  \n",
       "2         5.261719  \n",
       "3         3.527344  \n",
       "4         5.257812  "
      ]
     },
     "execution_count": 5,
     "metadata": {},
     "output_type": "execute_result"
    }
   ],
   "source": [
    "df_mptrj = np.load('edge_info/mptrj.npy', mmap_mode='r')\n",
    "df_mptrj = pd.DataFrame.from_records(df_mptrj)\n",
    "df_mptrj.head()"
   ]
  },
  {
   "cell_type": "code",
   "execution_count": 6,
   "metadata": {},
   "outputs": [],
   "source": [
    "ax = plot_oxygen_distance_hist(df_mptrj, u_numbers, ax=ax, label='mptrj')\n",
    "ax.legend()\n",
    "fig.show()\n",
    "fig.savefig('o-x.png')"
   ]
  },
  {
   "cell_type": "markdown",
   "metadata": {},
   "source": [
    "![histograms](o-x.png \"Title\")"
   ]
  },
  {
   "cell_type": "markdown",
   "metadata": {},
   "source": []
  }
 ],
 "metadata": {
  "kernelspec": {
   "display_name": "faiss-torch",
   "language": "python",
   "name": "python3"
  },
  "language_info": {
   "codemirror_mode": {
    "name": "ipython",
    "version": 3
   },
   "file_extension": ".py",
   "mimetype": "text/x-python",
   "name": "python",
   "nbconvert_exporter": "python",
   "pygments_lexer": "ipython3",
   "version": "3.12.10"
  }
 },
 "nbformat": 4,
 "nbformat_minor": 2
}
